{
 "cells": [
  {
   "cell_type": "markdown",
   "metadata": {},
   "source": [
    "# Behavorial-Cloning Project\n",
    "## - Brian Erickson\n",
    "This is my implementation of the Udacity Self Driving Car class project \"Behavioral Cloning\".\n",
    "\n",
    "The goal is to record driving input and images using a driving simulator, use the recorded input and images to train a neural network that will predict steering angles and then use the predicted steering angles to drive the same car in the same simulator.\n",
    "\n",
    "Installation: This is a linux based implementation.  The linux simulator should be installed in ../simulator"
   ]
  },
  {
   "cell_type": "markdown",
   "metadata": {},
   "source": [
    "### Imports and Helper Functions\n",
    "\n",
    "The helper functions below will be used throughout the notebook."
   ]
  },
  {
   "cell_type": "markdown",
   "metadata": {},
   "source": [
    "todo:\n",
    "* make generator that uses file paths\n",
    "* get file paths of all files self generated\n",
    "* create validation set from own files"
   ]
  },
  {
   "cell_type": "code",
   "execution_count": 1,
   "metadata": {
    "collapsed": false
   },
   "outputs": [
    {
     "name": "stderr",
     "output_type": "stream",
     "text": [
      "Using TensorFlow backend.\n"
     ]
    }
   ],
   "source": [
    "import matplotlib.pyplot as plt\n",
    "import matplotlib.image as mpimg\n",
    "import numpy as np\n",
    "import cv2\n",
    "import pandas as pd\n",
    "import tensorflow as tf\n",
    "import math\n",
    "import time\n",
    "import skimage.transform\n",
    "import random\n",
    "import os\n",
    "from ipywidgets import widgets\n",
    "from IPython.display import display\n",
    "import keras\n",
    "from keras.models import Sequential\n",
    "from keras.layers import Convolution2D, MaxPooling2D, Activation, Dropout, Flatten\n",
    "from keras.layers import Dense, Lambda, SeparableConvolution2D, Dense\n",
    "from keras.activations import relu, elu\n",
    "\n",
    "%matplotlib inline"
   ]
  },
  {
   "cell_type": "code",
   "execution_count": 2,
   "metadata": {
    "collapsed": true
   },
   "outputs": [],
   "source": [
    "# to make \"random\" calls predictable, use a fixed seed\n",
    "# since I'm using random from  numpy, tensorflow and from the \n",
    "# standard python random, I have a single seed helper\n",
    "# that will take care of all\n",
    "def seed(n=32568):\n",
    "    \"\"\"\n",
    "    Seeds the random number generators\n",
    "    \"\"\"\n",
    "    np.random.seed(n)\n",
    "    random.seed(n)\n",
    "    tf.set_random_seed(n)"
   ]
  },
  {
   "cell_type": "code",
   "execution_count": 3,
   "metadata": {
    "collapsed": false
   },
   "outputs": [],
   "source": [
    "# based on http://scipy-cookbook.readthedocs.io/items/SignalSmooth.html\n",
    "# and modified\n",
    "def smooth(x, window_len=11, window='hanning'):\n",
    "    \"\"\"\n",
    "    returns a smoothed version of x.\n",
    "    \n",
    "    Ends are padded with reflections\n",
    "\n",
    "    input:\n",
    "        x: 1d array\n",
    "        window_len: smoothing window length; should be an odd integer\n",
    "        window: kernel type: 'flat', 'hanning', 'hamming', 'bartlett', 'blackman' \n",
    "\n",
    "    output:\n",
    "        the smoothed signal, same size as x\n",
    "    \"\"\"\n",
    "\n",
    "    if x.ndim != 1:\n",
    "        raise ValueError(\"smooth only accepts 1 dimension arrays.\")\n",
    "\n",
    "    if x.size < window_len:\n",
    "        raise ValueError(\"Input vector needs to be bigger than window size.\")\n",
    "\n",
    "\n",
    "    if window_len<3:\n",
    "        return x\n",
    "\n",
    "\n",
    "    if not window in ['flat', 'hanning', 'hamming', 'bartlett', 'blackman']:\n",
    "        raise ValueError(\"Window is on of 'flat', 'hanning', 'hamming', 'bartlett', 'blackman'\")\n",
    "\n",
    "\n",
    "    s=np.r_[x[window_len-1:0:-1],x,x[-1:-window_len:-1]]\n",
    "    if window == 'flat': #moving average\n",
    "        w=np.ones(window_len,'d')\n",
    "    else:\n",
    "        w=eval('np.'+window+'(window_len)')\n",
    "\n",
    "    y=np.convolve(w/w.sum(),s,mode='valid')\n",
    "    return y[window_len//2:x.size+window_len//2]"
   ]
  },
  {
   "cell_type": "code",
   "execution_count": 4,
   "metadata": {
    "collapsed": true
   },
   "outputs": [],
   "source": [
    "def plot_image(img,title=None):\n",
    "    '''\n",
    "    Plots a single RGB or Greyscale image with no border\n",
    "    '''\n",
    "    cmap = 'gray' if np.ndim(img) == 2 else None\n",
    "    plt.axis('off')\n",
    "    plt.imshow(img, cmap=cmap, interpolation='none')\n",
    "    if title is not None:\n",
    "        plt.title(title)\n",
    "        \n",
    "def plot_images(l, images_per_line = 10, image_size_inches = 1.0, title=None):\n",
    "    \"\"\"\n",
    "    Plots images in a grid\n",
    "    \"\"\"\n",
    "    fig=plt.figure()\n",
    "    if title is not None:\n",
    "        fig.suptitle(title)\n",
    "    line_count=math.ceil(len(l)/images_per_line)\n",
    "    fig.set_size_inches(w=images_per_line*image_size_inches,h=line_count*image_size_inches)\n",
    "    for i in range(len(l)):\n",
    "        img=l[i]\n",
    "        plt.subplot(line_count,10,i+1)\n",
    "        plot_image(img)\n"
   ]
  },
  {
   "cell_type": "code",
   "execution_count": 5,
   "metadata": {
    "collapsed": false
   },
   "outputs": [
    {
     "name": "stdout",
     "output_type": "stream",
     "text": [
      "[[4, 10], [6, 12]]\n",
      "[4, 10]\n"
     ]
    }
   ],
   "source": [
    "def elements_at_indexes(*lists, indexes):\n",
    "    if len(lists)==1:\n",
    "        l=lists[0]\n",
    "        return [l[i] for i in indexes]\n",
    "    else:\n",
    "        return [elements_at_indexes(l,indexes=indexes) for l in lists]\n",
    "\n",
    "a = [2,4,6,10]\n",
    "b = [3,6,9,12]\n",
    "indexes = [1,3]\n",
    "print (elements_at_indexes(a,b,indexes=indexes))\n",
    "print (elements_at_indexes(a,indexes=indexes))\n",
    "\n"
   ]
  },
  {
   "cell_type": "code",
   "execution_count": 6,
   "metadata": {
    "collapsed": false
   },
   "outputs": [],
   "source": [
    "def split(*lists,n=None,ratio=None):\n",
    "    if ratio is not None:\n",
    "        n=int(len(lists[0])*ratio)\n",
    "    rv = []\n",
    "    for l in lists:\n",
    "        rv.append(l[:n])\n",
    "        rv.append(l[n:])\n",
    "    return rv"
   ]
  },
  {
   "cell_type": "code",
   "execution_count": 83,
   "metadata": {
    "collapsed": false
   },
   "outputs": [],
   "source": [
    "def random_sample(*lists, n=None, return_remainder = False, random_order=True):\n",
    "    \"\"\"\n",
    "    Returns parallel lists with n random samples from lists without replacement\n",
    "    \"\"\"\n",
    "    list_count = len(lists)\n",
    "    list_length = len(lists[0])\n",
    "    #print(list_count,list_length)\n",
    "    if n is None:\n",
    "        n = list_length\n",
    "    if n > list_length:\n",
    "        n = list_length\n",
    "        \n",
    "    all_indexes = list(range(list_length))\n",
    "    np.random.shuffle(all_indexes)\n",
    "    i1,i2 = split(all_indexes, n=n)\n",
    "    \n",
    "    if random_order == False:\n",
    "        print(\"sorting lists\")\n",
    "        i1.sort()\n",
    "        i2.sort()\n",
    "    rv  = []\n",
    "    for l in lists:\n",
    "        rv.append(elements_at_indexes(l,indexes=i1))\n",
    "        if return_remainder:\n",
    "            rv.append(elements_at_indexes(l,indexes=i2))\n",
    "    \n",
    "    return rv\n",
    "        "
   ]
  },
  {
   "cell_type": "code",
   "execution_count": 84,
   "metadata": {
    "collapsed": false
   },
   "outputs": [
    {
     "data": {
      "text/plain": [
       "[[3, 4, 2, 1, 6, 5], [6, 7, 4, 2, 12, 10]]"
      ]
     },
     "execution_count": 84,
     "metadata": {},
     "output_type": "execute_result"
    }
   ],
   "source": [
    "a=[1,2,3,4,5,6]\n",
    "b=[2,4,6,7,10,12]\n",
    "#print(random_sample(a,b,n=4,return_remainder=True))\n",
    "random_sample(a,b)"
   ]
  },
  {
   "cell_type": "code",
   "execution_count": 9,
   "metadata": {
    "collapsed": false
   },
   "outputs": [],
   "source": [
    "def read_driving_log(folder='recordings'):\n",
    "    csv_path = folder+'/driving_log.csv'\n",
    "    print('reading',csv_path)\n",
    "    csv_column_names = [\n",
    "        'center',\n",
    "        'left',\n",
    "        'right',\n",
    "        'steering',\n",
    "        'throttle',\n",
    "        'brake',\n",
    "        'speed']\n",
    "    \n",
    "    return pd.read_csv(csv_path,names=csv_column_names,skiprows=1)\n",
    "\n",
    "#driving_log = read_driving_log('sample_data')\n",
    "                    \n"
   ]
  },
  {
   "cell_type": "code",
   "execution_count": 10,
   "metadata": {
    "collapsed": false
   },
   "outputs": [
    {
     "name": "stdout",
     "output_type": "stream",
     "text": [
      "reading /home/brian/CarND/SimulatorData/Track1Center2/driving_log.csv\n",
      "2735\n",
      "reading /home/brian/CarND/SimulatorData/Track1Recovery2/driving_log.csv\n",
      "272\n",
      "reading /home/brian/CarND/SimulatorData/Track1Center1/driving_log.csv\n",
      "3032\n",
      "reading /home/brian/CarND/SimulatorData/Track1Recovery1/driving_log.csv\n",
      "920\n"
     ]
    }
   ],
   "source": [
    "def read_logs():\n",
    "    image_files = []\n",
    "    steering_angles = []\n",
    "    data_folder = '/home/brian/CarND/SimulatorData'\n",
    "    for folder in os.listdir(data_folder):\n",
    "        log_path = os.path.join(data_folder,folder)\n",
    "        log = read_driving_log(log_path)\n",
    "        print(len(log.center.values))\n",
    "        new_filenames = [\"/\".join((log_path,\"IMG\",f.split(\"\\\\\")[-1])) for f in log.center.values]\n",
    "        image_files.extend(new_filenames)\n",
    "        steering_angles.extend(log.steering.values)\n",
    "    return image_files,steering_angles\n",
    "X_path,y=read_logs()"
   ]
  },
  {
   "cell_type": "code",
   "execution_count": 12,
   "metadata": {
    "collapsed": false
   },
   "outputs": [],
   "source": [
    "n_train = int(len(y)*0.8)\n",
    "X_train_path, X_val_path, y_train, y_val = \\\n",
    "   random_sample(X_path,y,random_order=False,return_remainder=True,n=n_train)"
   ]
  },
  {
   "cell_type": "code",
   "execution_count": 85,
   "metadata": {
    "collapsed": false
   },
   "outputs": [],
   "source": [
    "X_train_path_r,y_train_r = random_sample(X_train_path,y_train)"
   ]
  },
  {
   "cell_type": "markdown",
   "metadata": {},
   "source": [
    "Here I show the first few rows of the log, we see that for each entry, there is a left, right, and center image as well as the conrol inputs and speed.  We will mainly be concentrating on the steering angle and center_image_path as these are designed to be the inputs and outputs of the system."
   ]
  },
  {
   "cell_type": "code",
   "execution_count": 15,
   "metadata": {
    "collapsed": false
   },
   "outputs": [],
   "source": [
    "def process_image(im):\n",
    "    new_size=(im.shape[1]//2,im.shape[0]//2)\n",
    "    small=cv2.resize(im,(new_size),interpolation=cv2.INTER_AREA)\n",
    "    return  (cv2.cvtColor(small,cv2.COLOR_RGB2YUV).astype(float) - 128.)/255.\n"
   ]
  },
  {
   "cell_type": "code",
   "execution_count": 16,
   "metadata": {
    "collapsed": false
   },
   "outputs": [],
   "source": [
    "def generate_data_for_folder(\n",
    "        folder='/home/brian/Desktop/Dropbox/School/Udacity/CarND/SimulatorData/Track1Center/1'):\n",
    "    driving_log = read_driving_log(folder)\n",
    "    #print(driving_log.head())\n",
    "    frame_count = len(driving_log.center.values)\n",
    "    print('frame_count',frame_count)\n",
    "    while True:\n",
    "        for i in range(frame_count):\n",
    "            filename=driving_log.center.values[i].split(\"\\\\\")[-1]\n",
    "            image_path = os.path.join(folder,\"IMG\",filename)\n",
    "            raw_image = plt.imread(image_path)\n",
    "            processed_image = process_image(raw_image)\n",
    "            steering_angle = driving_log.steering.values[i]\n",
    "            yield (processed_image, steering_angle)\n",
    "\n",
    "    "
   ]
  },
  {
   "cell_type": "code",
   "execution_count": 17,
   "metadata": {
    "collapsed": true
   },
   "outputs": [],
   "source": [
    "def generate_data_for_all_folders():\n",
    "    folders = [\n",
    "        '/home/brian/Desktop/Dropbox/School/Udacity/CarND/SimulatorData/Track1Center/1',\n",
    "        '/home/brian/Desktop/Dropbox/School/Udacity/CarND/SimulatorData/Track1Center/1'\n",
    "    ]\n",
    "    for folder in folders:\n",
    "        for X, y in generate_data_for_folder(folder):\n",
    "            yield X,y"
   ]
  },
  {
   "cell_type": "code",
   "execution_count": 18,
   "metadata": {
    "collapsed": false
   },
   "outputs": [],
   "source": [
    "def batch_generator(input_generator, batch_length=50):\n",
    "    X_batch=[]\n",
    "    y_batch=[]\n",
    "    i=0\n",
    "    for X,y in input_generator:\n",
    "        X_batch.append(X)\n",
    "        y_batch.append(y)\n",
    "        i+=1\n",
    "        if i >= batch_length:     \n",
    "            yield np.array(X_batch), np.array(y_batch)\n",
    "            X_batch=[]\n",
    "            y_batch=[]\n",
    "            i=0\n"
   ]
  },
  {
   "cell_type": "code",
   "execution_count": 20,
   "metadata": {
    "collapsed": false
   },
   "outputs": [],
   "source": [
    "def test_generator():\n",
    "    i = 0\n",
    "    for (X,y) in generate_data_for_folder():\n",
    "        plt.figure()\n",
    "        plot_image(X, title=str(y))\n",
    "        i+=1\n",
    "        if i > 5:\n",
    "            break\n",
    "\n",
    "#test_generator()\n",
    "    "
   ]
  },
  {
   "cell_type": "code",
   "execution_count": 50,
   "metadata": {
    "collapsed": true
   },
   "outputs": [],
   "source": [
    "def images_for_files(file_paths):\n",
    "    images = []\n",
    "    for f in file_paths:\n",
    "        im=plt.imread(f)\n",
    "        im=process_image(im)\n",
    "        images.append(im)\n",
    "    np_images=np.array(images,dtype='float')\n",
    "    del images\n",
    "    return np_images"
   ]
  },
  {
   "cell_type": "code",
   "execution_count": 51,
   "metadata": {
    "collapsed": false
   },
   "outputs": [
    {
     "name": "stdout",
     "output_type": "stream",
     "text": [
      "CPU times: user 31 s, sys: 5.19 s, total: 36.2 s\n",
      "Wall time: 49.4 s\n"
     ]
    }
   ],
   "source": [
    "%%time\n",
    "X_train_r = images_for_files(X_train_path_r)\n",
    "X_train = images_for_files(X_train_path)\n",
    "X_val = images_for_files(X_val_path)"
   ]
  },
  {
   "cell_type": "code",
   "execution_count": 52,
   "metadata": {
    "collapsed": false
   },
   "outputs": [
    {
     "data": {
      "text/plain": [
       "(5567, 80, 160, 3)"
      ]
     },
     "execution_count": 52,
     "metadata": {},
     "output_type": "execute_result"
    }
   ],
   "source": [
    "np.shape(X_train_r)"
   ]
  },
  {
   "cell_type": "markdown",
   "metadata": {
    "collapsed": false
   },
   "source": [
    "images=[]\n",
    "for path in center_sample:\n",
    "    im = plt.imread('sample_data//'+path)\n",
    "    im=process_image(im)\n",
    "    images.append(im)\n",
    "    \n",
    "center_images = np.array(images,dtype='float')\n",
    "del images\n",
    "\n",
    "steering_angles = steering_sample"
   ]
  },
  {
   "cell_type": "markdown",
   "metadata": {
    "collapsed": false
   },
   "source": [
    "def show_run_simulator_button():\n",
    "    simulator_button = widgets.Button(description= \"Run Simulator\")\n",
    "    simulator_button.on_click(run_simulator)\n",
    "    display(simulator_button)\n",
    "\n",
    "show_run_simulator_button()"
   ]
  },
  {
   "cell_type": "markdown",
   "metadata": {
    "collapsed": false
   },
   "source": [
    "X=center_images\n"
   ]
  },
  {
   "cell_type": "markdown",
   "metadata": {
    "collapsed": false
   },
   "source": [
    "y=np.array(steering_angles)\n",
    "y=smooth(y) #smooth the output, the keyboard based steering is too jerky\n",
    "train_ratio = 0.9\n",
    "X_train,X_val,y_train,y_val=random_sample(X,y,n=int(len(X)*train_ratio),return_remainder=True,random_order=False)\n",
    "X_train=np.array(X_train)\n",
    "X_val=np.array(X_val)\n",
    "y_train=np.array(y_train)\n",
    "y_val=np.array(y_val)"
   ]
  },
  {
   "cell_type": "markdown",
   "metadata": {
    "collapsed": false
   },
   "source": [
    "print(np.shape(X_train), np.shape(y_train), np.shape(X_val), np.shape(y_val))\n",
    "X_train_r,y_train_r = random_sample(X_train,y_train)\n",
    "X_train_r = np.reshape(X_train_r,X_train.shape)\n",
    "y_train_r = np.reshape(y_train_r,y_train.shape)\n",
    "print(np.shape(X_train_r), np.shape(y_train_r))\n",
    "\n"
   ]
  },
  {
   "cell_type": "code",
   "execution_count": 53,
   "metadata": {
    "collapsed": false
   },
   "outputs": [
    {
     "name": "stdout",
     "output_type": "stream",
     "text": [
      "(80, 160, 3)\n"
     ]
    }
   ],
   "source": [
    "# let's remember the shape of the processed images\n",
    "im_shape = X_train_r[0].shape\n",
    "print(im_shape)"
   ]
  },
  {
   "cell_type": "code",
   "execution_count": 54,
   "metadata": {
    "collapsed": false
   },
   "outputs": [],
   "source": [
    "\n",
    "# manually transcribed and modified from \n",
    "# https://chatbotslife.com/learning-human-driving-behavior-using-nvidias-neural-network-model-and-image-augmentation-80399360efee#.u8zq6ghon\n",
    "\n",
    "def RELU():\n",
    "    return Activation(elu)\n",
    "\n",
    "def nvidia_model(input_shape):\n",
    "    model = Sequential()\n",
    "    model.add(Lambda(lambda x: x/127.5 -1., input_shape = input_shape))\n",
    "    model.add(Convolution2D(24, 5, 5, subsample=(2, 2), border_mode=\"valid\", init=\"he_normal\"))\n",
    "    model.add(RELU())\n",
    "    model.add(Convolution2D(36, 5, 5, subsample=(2, 2), border_mode=\"valid\", init=\"he_normal\"))\n",
    "    model.add(RELU())\n",
    "    model.add(Convolution2D(48, 5, 5, subsample=(2, 2), border_mode=\"valid\", init=\"he_normal\"))\n",
    "    model.add(RELU())\n",
    "    model.add(Convolution2D(64, 3, 3, subsample=(1, 1), border_mode=\"valid\", init=\"he_normal\"))\n",
    "    model.add(RELU())\n",
    "    model.add(Convolution2D(64, 3, 3, subsample=(1, 1), border_mode=\"valid\", init=\"he_normal\"))\n",
    "    model.add(Flatten())\n",
    "    model.add(RELU())\n",
    "    model.add(Dense(1164, init=\"he_normal\"))\n",
    "    model.add(RELU())\n",
    "    model.add(Dense(100, init=\"he_normal\"))\n",
    "    model.add(RELU())\n",
    "    model.add(Dense(50, init=\"he_normal\"))\n",
    "    model.add(RELU())\n",
    "    model.add(Dense(10, init=\"he_normal\"))\n",
    "    model.add(RELU())\n",
    "    model.add(Dense(1, init=\"he_normal\"))\n",
    "    return model\n",
    "\n"
   ]
  },
  {
   "cell_type": "code",
   "execution_count": 55,
   "metadata": {
    "collapsed": true
   },
   "outputs": [],
   "source": [
    "def model_a(im_shape):\n",
    "    model = Sequential()\n",
    "    model.add(keras.layers.InputLayer(input_shape=im_shape))\n",
    "    model.add(SeparableConvolution2D(16, 3,3,  border_mode='valid', subsample=(2,2),activation='relu',name='conv1', dim_ordering='tf'))\n",
    "    model.add(Convolution2D(32, 3, 3, border_mode='valid',  subsample=(2,2), activation='relu',name='conv2', dim_ordering='tf'))\n",
    "    model.add(Convolution2D(64, 5, 5, border_mode='valid', activation='relu',name='conv3', dim_ordering='tf'))\n",
    "    model.add(MaxPooling2D(pool_size=(4, 4), name ='maxpool2'))\n",
    "    model.add(Flatten())\n",
    "    model.add(Dense(100,activation='sigmoid',name='dense100'))\n",
    "    model.add(Dense(20,activation='sigmoid',name='dense20'))\n",
    "    model.add(Dropout(0.5, name ='dropout'))\n",
    "    model.add(Dense(10,activation='sigmoid', name = 'dense10'))\n",
    "    model.add(Dense(1,activation='linear', name = 'final'))\n",
    "    return model"
   ]
  },
  {
   "cell_type": "code",
   "execution_count": 56,
   "metadata": {
    "collapsed": false
   },
   "outputs": [
    {
     "data": {
      "text/plain": [
       "(1, 80, 160, 3)"
      ]
     },
     "execution_count": 56,
     "metadata": {},
     "output_type": "execute_result"
    }
   ],
   "source": [
    "X_train_r[0:1].shape"
   ]
  },
  {
   "cell_type": "markdown",
   "metadata": {
    "collapsed": false,
    "scrolled": false
   },
   "source": [
    "def udacity_train_generator():\n",
    "    while True:\n",
    "        batch_size=50\n",
    "        for i in range(len(X_train_r)):\n",
    "            yield (X_train_r[i:i+batch_size], y_train_r[i:i++batch_size])\n",
    "\n",
    "def brian_train_generator():\n",
    "    return batch_generator(generate_data_for_all_folders(),batch_length=50)\n",
    "\n",
    "train_generator = brian_train_generator\n",
    "\n",
    "def validation_generator():\n",
    "    while True:\n",
    "        for i in range(len(X_val)):\n",
    "            yield (X_val[i:i+100], y_val[i:i+100])\n",
    "checkpointer = keras.callbacks.ModelCheckpoint(\"best_model.h5\")\n",
    "quitter = keras.callbacks.EarlyStopping(patience=20)\n",
    "\n",
    "model.fit_generator(\n",
    "    train_generator(),\n",
    "    samples_per_epoch=len(X_train),\n",
    "    nb_epoch=200,\n",
    "    validation_data = (X_val,y_val),#validation_generator(),\n",
    "    #nb_val_samples=len(y_val),\n",
    "    callbacks=[checkpointer,quitter]\n",
    "    )"
   ]
  },
  {
   "cell_type": "code",
   "execution_count": 57,
   "metadata": {
    "collapsed": true
   },
   "outputs": [],
   "source": [
    "#model=keras.models.load_model('best_model.h5')"
   ]
  },
  {
   "cell_type": "code",
   "execution_count": null,
   "metadata": {
    "collapsed": true
   },
   "outputs": [],
   "source": []
  },
  {
   "cell_type": "code",
   "execution_count": 58,
   "metadata": {
    "collapsed": false
   },
   "outputs": [
    {
     "data": {
      "text/plain": [
       "(10,)"
      ]
     },
     "execution_count": 58,
     "metadata": {},
     "output_type": "execute_result"
    }
   ],
   "source": [
    "np.ones(10).shape"
   ]
  },
  {
   "cell_type": "code",
   "execution_count": 88,
   "metadata": {
    "collapsed": false
   },
   "outputs": [
    {
     "name": "stdout",
     "output_type": "stream",
     "text": [
      "(5567, 80, 160, 3) (1392, 80, 160, 3) (5567,) (1392,)\n"
     ]
    }
   ],
   "source": [
    "y_train=np.array(y_train)\n",
    "y_train_r=np.array(y_train_r)\n",
    "y_val=np.array(y_val)\n",
    "print(X_train_r.shape,X_val.shape,y_train.shape,y_val.shape)"
   ]
  },
  {
   "cell_type": "code",
   "execution_count": 97,
   "metadata": {
    "collapsed": false
   },
   "outputs": [],
   "source": [
    "model = model_a(im_shape)\n",
    "#model = nvidia_model(im_shape)\n",
    "model.compile(loss='mse', optimizer='adam')\n",
    "#sdg = keras.optimizers.SGD(lr=0.001, clipnorm=1.)\n",
    "#model.compile(loss='mse', optimizer=sdg)"
   ]
  },
  {
   "cell_type": "code",
   "execution_count": null,
   "metadata": {
    "collapsed": false,
    "scrolled": false
   },
   "outputs": [
    {
     "name": "stdout",
     "output_type": "stream",
     "text": [
      "Train on 5567 samples, validate on 1392 samples\n",
      "Epoch 1/10\n",
      "5567/5567 [==============================] - 8s - loss: 0.0027 - val_loss: 0.0022\n",
      "Epoch 2/10\n",
      "5567/5567 [==============================] - 8s - loss: 0.0026 - val_loss: 0.0021\n",
      "Epoch 3/10\n",
      "5567/5567 [==============================] - 8s - loss: 0.0023 - val_loss: 0.0020\n",
      "Epoch 4/10\n",
      "5567/5567 [==============================] - 8s - loss: 0.0023 - val_loss: 0.0019\n",
      "Epoch 5/10\n",
      "5567/5567 [==============================] - 8s - loss: 0.0022 - val_loss: 0.0018\n",
      "Epoch 6/10\n",
      "5567/5567 [==============================] - 8s - loss: 0.0021 - val_loss: 0.0019\n",
      "Epoch 7/10\n",
      "5567/5567 [==============================] - 8s - loss: 0.0021 - val_loss: 0.0017\n",
      "Epoch 8/10\n",
      "5106/5567 [==========================>...] - ETA: 0s - loss: 0.0019"
     ]
    }
   ],
   "source": [
    "\n",
    "\n",
    "history = model.fit(X_train, y_train,\n",
    "#history = model.fit(X, y,\n",
    "          nb_epoch=10, batch_size=46,\n",
    "          validation_data=(X_val, y_val))\n"
   ]
  },
  {
   "cell_type": "code",
   "execution_count": 99,
   "metadata": {
    "collapsed": false
   },
   "outputs": [
    {
     "name": "stdout",
     "output_type": "stream",
     "text": [
      "0.3875669 -0.4944554 [ 0.27457604] [-0.22696686]\n",
      "-0.0512133282676 -0.0530074\n"
     ]
    }
   ],
   "source": [
    "y_train_predict=model.predict(X_train)\n",
    "print(max(y_train), min(y_train), max(y_train_predict), min(y_train_predict))\n",
    "print(np.mean(y_train),np.mean(y_train_predict))\n"
   ]
  },
  {
   "cell_type": "code",
   "execution_count": 100,
   "metadata": {
    "collapsed": false
   },
   "outputs": [
    {
     "data": {
      "text/plain": [
       "<matplotlib.text.Text at 0x7fc625b8e5c0>"
      ]
     },
     "execution_count": 100,
     "metadata": {},
     "output_type": "execute_result"
    },
    {
     "data": {
      "image/png": "[encoded data removed]",
      "text/plain": [
       "<matplotlib.figure.Figure at 0x7fc6265265f8>"
      ]
     },
     "metadata": {},
     "output_type": "display_data"
    }
   ],
   "source": [
    "\n",
    "plt.figure(figsize=(10,10))\n",
    "plt.plot(y_train_r,color='b')\n",
    "plt.plot(y_train_predict,color='g')\n",
    "\n",
    "plt.title(\"Actual(blue) vs. Predicted(green) steering angles - training set\")"
   ]
  },
  {
   "cell_type": "code",
   "execution_count": null,
   "metadata": {
    "collapsed": false
   },
   "outputs": [],
   "source": [
    "y_val_predict = model.predict(X_val)"
   ]
  },
  {
   "cell_type": "code",
   "execution_count": null,
   "metadata": {
    "collapsed": false
   },
   "outputs": [],
   "source": [
    "plt.plot(y_val, color='b')\n",
    "plt.plot(y_val_predict, color='g')\n",
    "plt.title(\"Actual(blue) vs. Predicted(green) steering angles - validation set\")\n"
   ]
  },
  {
   "cell_type": "code",
   "execution_count": null,
   "metadata": {
    "collapsed": false
   },
   "outputs": [],
   "source": [
    "plt.scatter(y_train_predict,y_train,alpha=0.1)\n",
    "plt.title(\"Prediction correlation on training set\")"
   ]
  },
  {
   "cell_type": "code",
   "execution_count": null,
   "metadata": {
    "collapsed": false
   },
   "outputs": [],
   "source": [
    "plt.scatter(y_val_predict,y_val,alpha=0.1)\n",
    "plt.title(\"Prediction correlation on validation set\")"
   ]
  },
  {
   "cell_type": "code",
   "execution_count": null,
   "metadata": {
    "collapsed": true
   },
   "outputs": [],
   "source": [
    "#model.save('model_a_v00304.h5')\n",
    "def save_model_to_json(model, file_path='model.json'):\n",
    "    json = model.to_json()\n",
    "    with open(file_path, 'w') as f:\n",
    "        f.write(json)\n",
    "        \n",
    "def save_weights(model, file_path='model.h5'):\n",
    "    model.save_weights(file_path)\n",
    "\n",
    "def save_all():\n",
    "    save_model_to_json(model)\n",
    "    save_weights(model)\n",
    "\n"
   ]
  },
  {
   "cell_type": "code",
   "execution_count": null,
   "metadata": {
    "collapsed": false
   },
   "outputs": [],
   "source": [
    "save_all()"
   ]
  },
  {
   "cell_type": "code",
   "execution_count": null,
   "metadata": {
    "collapsed": true
   },
   "outputs": [],
   "source": []
  }
 ],
 "metadata": {
  "anaconda-cloud": {},
  "kernelspec": {
   "display_name": "Python [conda env:udacity]",
   "language": "python",
   "name": "conda-env-udacity-py"
  },
  "language_info": {
   "codemirror_mode": {
    "name": "ipython",
    "version": 3
   },
   "file_extension": ".py",
   "mimetype": "text/x-python",
   "name": "python",
   "nbconvert_exporter": "python",
   "pygments_lexer": "ipython3",
   "version": "3.5.2"
  },
  "widgets": {
   "state": {
    "89e51ff4ca7f49d49d19df17d4a3af49": {
     "views": [
      {
       "cell_index": 12
      }
     ]
    }
   },
   "version": "1.2.0"
  }
 },
 "nbformat": 4,
 "nbformat_minor": 1
}
